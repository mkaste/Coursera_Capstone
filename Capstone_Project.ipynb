{
 "cells": [
  {
   "cell_type": "markdown",
   "metadata": {},
   "source": [
    "# Capstone Project - Final\n",
    "### Weeks 4 & 5"
   ]
  },
  {
   "cell_type": "markdown",
   "metadata": {},
   "source": [
    "## Table of contents\n",
    "* [Introduction: Business Problem](#business_problem)\n",
    "* [Data](#data)\n",
    "* [Methodology](#methodology)\n",
    "* [Analysis](#analysis)\n",
    "* [Results and Discussion](#results)\n",
    "* [Conclusion](#conclusion)"
   ]
  },
  {
   "cell_type": "markdown",
   "metadata": {},
   "source": [
    "## Business Problem <a name=\"business_problem\"></a>"
   ]
  },
  {
   "cell_type": "markdown",
   "metadata": {},
   "source": [
    "The goal of this project is to find set of optimal locations for tourist accomodation (hotel, motel, inn, bed & breakfast etc) in the city of Ljubljana, capital of Slovenia.  \n",
    "\n",
    "Ljubljana has been a very popular tourist destination in the past years and it hosts more tourists each year. The accomodation capacities need to grow accordingly. \n",
    "\n",
    "The following assumptions will be considered when trying to find optimal locations for accomodation:\n",
    "* No other accomodation object in vicinity.\n",
    "* Migrating towards to city center (where most of the city attractions are)\n",
    "* Walking distance to various food places. \n",
    "* Walking distance to bus stops.\n",
    "\n",
    "This information is interesting to investors and stakeholders that are considering new acommodation objects in Ljubljana. Location information is one of the most important variables in this decision. There are other factors that impact the decision which are not considered in this project, like realestate prices. "
   ]
  },
  {
   "cell_type": "markdown",
   "metadata": {},
   "source": [
    "## Data <a name=\"data\"></a>"
   ]
  },
  {
   "cell_type": "markdown",
   "metadata": {},
   "source": [
    "The source of data will be Foursquare:\n",
    "* Existing accomodation locations in Ljubljana\n",
    "* Food venues available walking distance from every accomodation location\n",
    "* Bus stops locations available walking distance from every accomodation location\n",
    "\n",
    "Existing administrative regions neighbourhoods/boroughs/districts could be used as originating points for Foursquare data. Unfortunately they have incorrect shapes which can skew the data pulled from Foursquare.\n",
    "It was decided to put a square grid over the city of Ljubljana, centered at the most popular tourist spot, Ljubljansko tromostovje.\n",
    "\n",
    "For address Nomatim is used."
   ]
  },
  {
   "cell_type": "code",
   "execution_count": null,
   "metadata": {},
   "outputs": [],
   "source": [
    "# imports\n",
    "\n",
    "# uncomment to install with conda or pip\n",
    "# !pip install geopy\n",
    "# !conda install -c conda-forge geopy --yes \n",
    "\n",
    "from geopy.geocoders import Nominatim \n",
    "from geopy.extra.rate_limiter import RateLimiter\n",
    "\n",
    "# !conda install -c conda-forge folium --yes\n",
    "# !pip install folium\n",
    "import folium\n",
    "\n",
    "import requests # library to handle requests\n",
    "import pandas as pd\n",
    "from pandas.io.json import json_normalize # tranform JSON file into a pandas dataframe\n",
    "import numpy as np\n",
    "import math\n",
    "import time\n",
    "\n",
    "# !conda install -c conda-forge pyproj --yes \n",
    "import pyproj"
   ]
  }
 ],
 "metadata": {
  "kernelspec": {
   "display_name": "Python 3",
   "language": "python",
   "name": "python3"
  },
  "language_info": {
   "codemirror_mode": {
    "name": "ipython",
    "version": 3
   },
   "file_extension": ".py",
   "mimetype": "text/x-python",
   "name": "python",
   "nbconvert_exporter": "python",
   "pygments_lexer": "ipython3",
   "version": "3.7.4"
  }
 },
 "nbformat": 4,
 "nbformat_minor": 4
}
