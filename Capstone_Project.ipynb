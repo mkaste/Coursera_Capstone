{
 "cells": [
  {
   "cell_type": "markdown",
   "metadata": {},
   "source": [
    "# Capstone Project - Final\n",
    "### Weeks 4 & 5"
   ]
  },
  {
   "cell_type": "markdown",
   "metadata": {},
   "source": [
    "## Table of contents\n",
    "* [Introduction: Business Problem](#business_problem)\n",
    "* [Data](#data)\n",
    "* [Methodology](#methodology)\n",
    "* [Analysis](#analysis)\n",
    "* [Results and Discussion](#results)\n",
    "* [Conclusion](#conclusion)"
   ]
  },
  {
   "cell_type": "markdown",
   "metadata": {},
   "source": [
    "## Business Problem <a name=\"business_problem\"></a>"
   ]
  },
  {
   "cell_type": "markdown",
   "metadata": {},
   "source": [
    "The goal of this project is to find set of optimal locations for tourist accomodation (hotel, motel, inn, bed & breakfast etc) in the city of Ljubljana, capital of Slovenia.  \n",
    "\n",
    "Ljubljana has been a very popular tourist destination in the past years and it hosts more tourists each year. The accomodation capacities need to grow accordingly. \n",
    "\n",
    "The following assumptions will be considered when trying to find optimal locations for accomodation:\n",
    "* No other accomodation object in vicinity.\n",
    "* Migrating towards to city center (where most of the city attractions are)\n",
    "* Walking distance to various food places. \n",
    "* Walking distance to bus stops.\n",
    "\n",
    "This information is interesting to investors and stakeholders that are considering new acommodation objects in Ljubljana. Location information is one of the most important variables in this decision. There are other factors that impact the decision which are not considered in this project, like realestate prices. "
   ]
  },
  {
   "cell_type": "markdown",
   "metadata": {},
   "source": [
    "## Data <a name=\"data\"></a>"
   ]
  },
  {
   "cell_type": "markdown",
   "metadata": {},
   "source": [
    "The source of data will be Foursquare:\n",
    "* Existing accomodation locations in Ljubljana\n",
    "* Food venues available walking distance from every accomodation location\n",
    "* Bus stops locations available walking distance from every accomodation location\n",
    "\n",
    "Existing administrative regions neighbourhoods/boroughs/districts could be used as originating points for Foursquare data. Unfortunately they have incorrect shapes which can skew the data pulled from Foursquare.\n",
    "It was decided to put a square grid over the city of Ljubljana, centered at the most popular tourist spot, Ljubljansko tromostovje.\n",
    "\n",
    "For address Nomatim is used."
   ]
  },
  {
   "cell_type": "code",
   "execution_count": 4,
   "metadata": {},
   "outputs": [],
   "source": [
    "# imports\n",
    "\n",
    "# uncomment to install with conda or pip\n",
    "# !pip install geopy\n",
    "# !conda install -c conda-forge geopy --yes \n",
    "\n",
    "from geopy.geocoders import Nominatim \n",
    "from geopy.extra.rate_limiter import RateLimiter\n",
    "\n",
    "# !conda install -c conda-forge folium --yes\n",
    "# !pip install folium\n",
    "import folium\n",
    "\n",
    "import requests # library to handle requests\n",
    "import pandas as pd\n",
    "from pandas.io.json import json_normalize # tranform JSON file into a pandas dataframe\n",
    "import numpy as np\n",
    "import math\n",
    "import time\n",
    "\n",
    "# !conda install -c conda-forge pyproj --yes \n",
    "import pyproj"
   ]
  },
  {
   "cell_type": "code",
   "execution_count": 20,
   "metadata": {},
   "outputs": [],
   "source": [
    "# foursquare credentials\n",
    "foursquare_client_id = 'EXENEWRKIY0ZQPXVOZCD3RWEXTNNQC1113GGBXYXJVHERV0J' # your Foursquare ID\n",
    "foursquare_client_secret = 'YHAQNOL1EMK0BHONYERC4J52J4ECBPAIQOKWSULTVWZZUQKM' # your Foursquare Secret\n",
    "foursquare_version = '20180605' # Foursquare API version\n",
    "foursquare_limit = 100"
   ]
  },
  {
   "cell_type": "markdown",
   "metadata": {},
   "source": [
    "### Accomodation locations"
   ]
  },
  {
   "cell_type": "code",
   "execution_count": 5,
   "metadata": {},
   "outputs": [
    {
     "name": "stdout",
     "output_type": "stream",
     "text": [
      "Coordinates of Prešernov trg, Ljubljana, Slovenia = (46.05140755, 14.506095911950972)\n"
     ]
    }
   ],
   "source": [
    "# Get the Ljubljana tourist center point.\n",
    "\n",
    "lj_center_address = 'Prešernov trg, Ljubljana, Slovenia'\n",
    "\n",
    "geolocator = Nominatim(user_agent=\"LJ_explorer\")\n",
    "geocode = RateLimiter(geolocator.geocode, min_delay_seconds=5)\n",
    "\n",
    "location = geocode(lj_center_address)\n",
    "lj_center_lat = location.latitude\n",
    "lj_center_lon = location.longitude\n",
    "lj_center_coordinates=(lj_center_lat,lj_center_lon)\n",
    "\n",
    "print('Coordinates of {} = {}'.format(lj_center_address, lj_center_coordinates))"
   ]
  },
  {
   "cell_type": "code",
   "execution_count": 17,
   "metadata": {},
   "outputs": [],
   "source": [
    "# Helper methods for calculating various geo coordinates in WGS84 space \n",
    "\n",
    "geod = pyproj.Geod(ellps='WGS84')\n",
    "\n",
    "# calculate the geo point which is distance away in the direction of the fwd_azimuth\n",
    "def calculate_geo_point(start_lat, start_lon, fwd_azimuth, distance):\n",
    "    end_lon, end_lat, back_azimuth = geod.fwd(start_lon,start_lat,fwd_azimuth,distance)\n",
    "    return (end_lat, end_lon)\n",
    "\n",
    "# calculates geo coordinates of corners of a square. Start_lat and start_lon assumes SW corner.\n",
    "def calculate_square_corners(start_lat, start_lon, distance):\n",
    "    corners = [] # clock wise - sw, nw, ne, sw\n",
    "    corners.append((start_lat, start_lon))\n",
    "    corners.append(calculate_geo_point(start_lat, start_lon, 0, distance))\n",
    "    corners.append(calculate_geo_point(start_lat, start_lon, 45, math.sqrt(2)*distance))\n",
    "    corners.append(calculate_geo_point(start_lat, start_lon, 90, distance))\n",
    "    return corners\n",
    "\n",
    "# calculate distance between 2 geo coordinates \n",
    "def calculate_distance(start_lat, start_lon, end_lat, end_lon):\n",
    "    a1, a1, distance = geod.inv(start_lon, start_lat, end_lon, end_lat)\n",
    "    return distance"
   ]
  },
  {
   "cell_type": "code",
   "execution_count": 27,
   "metadata": {},
   "outputs": [],
   "source": [
    "# Define the grid - a square defined by coordinates of it's corners (sw, nw, ne, se).\n",
    "# Each grid unit/area is a square defined by coordinates of it's corners (sw, nw, ne, se).\n",
    "grid_size = 10000 # meters\n",
    "grid_unit = 1000 # meters \n",
    "\n",
    "\n",
    "def generate_grid(start_lat, start_lon, grid_size, grid_unit):\n",
    "    # Get the grid's SW corner starting from the lj center coordinates\n",
    "    grid_sw_corner = calculate_geo_point(start_lat, start_lon, 225, grid_size*math.sqrt(2)/2)\n",
    "\n",
    "    # Calculate the rest of the grid's corners\n",
    "    grid_corners = calculate_square_corners(grid_sw_corner[0], grid_sw_corner[1], grid_size)\n",
    "\n",
    "    # generate the grid\n",
    "    # start at the SW corner of the grid and make your way up \n",
    "    grid=[]\n",
    "\n",
    "    row_origin = grid_sw_corner \n",
    "    for i in range(0, math.floor(grid_size/grid_unit)):\n",
    "        col_origin = row_origin # remember the origin\n",
    "        for j in range(0, math.floor(grid_size/grid_unit)):\n",
    "            square = calculate_square_corners(col_origin[0], col_origin[1], grid_unit)\n",
    "            grid.append(square)\n",
    "            col_origin = square[3] # new SW corner is the SE corner of the previous square\n",
    "    \n",
    "        row_origin = calculate_geo_point(row_origin[0], row_origin[1], 0, grid_unit)\n",
    "    \n",
    "    return grid"
   ]
  },
  {
   "cell_type": "code",
   "execution_count": 28,
   "metadata": {},
   "outputs": [
    {
     "data": {
      "text/plain": [
       "100"
      ]
     },
     "execution_count": 28,
     "metadata": {},
     "output_type": "execute_result"
    }
   ],
   "source": [
    "len(generate_grid(lj_center_lat, lj_center_lon, grid_size, grid_unit))"
   ]
  },
  {
   "cell_type": "code",
   "execution_count": null,
   "metadata": {},
   "outputs": [],
   "source": []
  }
 ],
 "metadata": {
  "kernelspec": {
   "display_name": "Python 3",
   "language": "python",
   "name": "python3"
  },
  "language_info": {
   "codemirror_mode": {
    "name": "ipython",
    "version": 3
   },
   "file_extension": ".py",
   "mimetype": "text/x-python",
   "name": "python",
   "nbconvert_exporter": "python",
   "pygments_lexer": "ipython3",
   "version": "3.7.4"
  }
 },
 "nbformat": 4,
 "nbformat_minor": 4
}
